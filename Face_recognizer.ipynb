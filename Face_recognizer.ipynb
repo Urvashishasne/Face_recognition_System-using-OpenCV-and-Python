{
 "cells": [
  {
   "cell_type": "markdown",
   "id": "6060dd23",
   "metadata": {},
   "source": [
    "# Face recognition"
   ]
  },
  {
   "cell_type": "code",
   "execution_count": 1,
   "id": "18811137",
   "metadata": {},
   "outputs": [],
   "source": [
    "import cv2\n",
    "import numpy as np\n",
    "import os"
   ]
  },
  {
   "cell_type": "code",
   "execution_count": null,
   "id": "987b3203",
   "metadata": {},
   "outputs": [],
   "source": [
    "recognizer = cv2.face.LBPHFaceRecognizer_create()\n",
    "recognizer.read('trainer/trainer.yml')  \n",
    "faceCascade = cv2.CascadeClassifier(\n",
    "    cv2.data.haarcascades + \"haarcascade_frontalface_default.xml\"\n",
    ")\n",
    "if faceCascade.empty():\n",
    "    print(\"Error: Haar cascade not loaded!\")\n",
    "    exit()\n",
    "font = cv2.FONT_HERSHEY_SIMPLEX\n",
    "names = [\"\", \"Urvashi\", \"Shradha\"]  \n",
    "cam = cv2.VideoCapture(0)\n",
    "cam.set(3, 640)  # width\n",
    "cam.set(4, 480)  # height\n",
    "\n",
    "# Minimum face size to detect\n",
    "minW = 0.1 * cam.get(3)\n",
    "minH = 0.1 * cam.get(4)\n",
    "\n",
    "# -------------------------------\n",
    "# Real-time face recognition loop\n",
    "# -------------------------------\n",
    "while True:\n",
    "    ret, img = cam.read()\n",
    "    if not ret:\n",
    "        print(\"Failed to grab frame\")\n",
    "        break\n",
    "\n",
    "    gray = cv2.cvtColor(img, cv2.COLOR_BGR2GRAY)\n",
    "\n",
    "    faces = faceCascade.detectMultiScale(\n",
    "        gray,\n",
    "        scaleFactor=1.2,\n",
    "        minNeighbors=5,\n",
    "        minSize=(int(minW), int(minH)),\n",
    "    )\n",
    "\n",
    "    for (x, y, w, h) in faces:\n",
    "        cv2.rectangle(img, (x, y), (x + w, y + h), (0, 255, 0), 2)\n",
    "        id, confidence = recognizer.predict(gray[y:y + h, x:x + w])\n",
    "\n",
    "        # Confidence: 0 = perfect match, higher = worse match\n",
    "        if confidence < 100:\n",
    "            name = names[id] if id < len(names) else \"Unknown\"\n",
    "            confidence_text = f\"{round(100 - confidence)}%\"\n",
    "        else:\n",
    "            name = \"Unknown\"\n",
    "            confidence_text = f\"{round(100 - confidence)}%\"\n",
    "\n",
    "        cv2.putText(img, str(name), (x + 5, y - 5), font, 1, (255, 255, 255), 2)\n",
    "        cv2.putText(img, str(confidence_text), (x + 5, y + h - 5), font, 1, (255, 255, 0), 1)\n",
    "\n",
    "    cv2.imshow('Camera', img)\n",
    "\n",
    "    k = cv2.waitKey(10) & 0xFF\n",
    "    if k == 27:  # Press ESC to exit\n",
    "        break\n",
    "\n",
    "print(\"\\n[INFO] Exiting Program and cleanup stuff\")\n",
    "cam.release()\n",
    "cv2.destroyAllWindows()\n"
   ]
  },
  {
   "cell_type": "code",
   "execution_count": null,
   "id": "9cdd4591",
   "metadata": {},
   "outputs": [],
   "source": []
  }
 ],
 "metadata": {
  "kernelspec": {
   "display_name": "Python 3",
   "language": "python",
   "name": "python3"
  },
  "language_info": {
   "codemirror_mode": {
    "name": "ipython",
    "version": 3
   },
   "file_extension": ".py",
   "mimetype": "text/x-python",
   "name": "python",
   "nbconvert_exporter": "python",
   "pygments_lexer": "ipython3",
   "version": "3.11.9"
  }
 },
 "nbformat": 4,
 "nbformat_minor": 5
}
